{
 "cells": [
  {
   "cell_type": "code",
   "execution_count": 7,
   "metadata": {},
   "outputs": [
    {
     "data": {
      "text/plain": [
       "False"
      ]
     },
     "execution_count": 7,
     "metadata": {},
     "output_type": "execute_result"
    }
   ],
   "source": [
    "\"Misha - mraz\" >= \"Misha-mraz\""
   ]
  },
  {
   "cell_type": "code",
   "execution_count": null,
   "metadata": {},
   "outputs": [],
   "source": [
    "def countdown(n):\n",
    "    if n > 0:\n",
    "        print(\"misha ne mraz\")\n",
    "    else:\n",
    "        print(n)\n",
    "        countdown(n-1)\n",
    "\n",
    "countdown(-1)"
   ]
  },
  {
   "cell_type": "code",
   "execution_count": 34,
   "metadata": {},
   "outputs": [],
   "source": [
    "def do_n(fun, n):\n",
    "    if n <= 0:\n",
    "        return\n",
    "    else:\n",
    "        fun()\n",
    "        do_n(fun, n - 1)\n",
    "\n",
    "def print_mraz():\n",
    "    print('Misha bil mrazyu vsego ',  '10',  ' raz')\n",
    "\n"
   ]
  },
  {
   "cell_type": "code",
   "execution_count": 35,
   "metadata": {},
   "outputs": [
    {
     "name": "stdout",
     "output_type": "stream",
     "text": [
      "Misha bil mrazyu vsego  10  raz\n",
      "Misha bil mrazyu vsego  10  raz\n",
      "Misha bil mrazyu vsego  10  raz\n",
      "Misha bil mrazyu vsego  10  raz\n",
      "Misha bil mrazyu vsego  10  raz\n",
      "Misha bil mrazyu vsego  10  raz\n",
      "Misha bil mrazyu vsego  10  raz\n",
      "Misha bil mrazyu vsego  10  raz\n",
      "Misha bil mrazyu vsego  10  raz\n",
      "Misha bil mrazyu vsego  10  raz\n"
     ]
    }
   ],
   "source": [
    "do_n(print_mraz, 10)"
   ]
  },
  {
   "cell_type": "code",
   "execution_count": null,
   "metadata": {},
   "outputs": [
    {
     "ename": "",
     "evalue": "",
     "output_type": "error",
     "traceback": [
      "\u001b[1;31mCanceled future for execute_request message before replies were done"
     ]
    },
    {
     "ename": "",
     "evalue": "",
     "output_type": "error",
     "traceback": [
      "\u001b[1;31mПри выполнении кода в текущей ячейке или предыдущей ячейке ядро аварийно завершило работу. Проверьте код в ячейках, чтобы определить возможную причину сбоя. Щелкните <a href=\"https://aka.ms/vscodeJupyterKernelCrash\">здесь</a> для получения дополнительных сведений. Подробнее см. в <a href='command:jupyter.viewOutput'>журнале Jupyter</a>."
     ]
    }
   ],
   "source": []
  },
  {
   "cell_type": "code",
   "execution_count": null,
   "metadata": {},
   "outputs": [],
   "source": []
  }
 ],
 "metadata": {
  "kernelspec": {
   "display_name": "Python 3.10.5 64-bit",
   "language": "python",
   "name": "python3"
  },
  "language_info": {
   "codemirror_mode": {
    "name": "ipython",
    "version": 3
   },
   "file_extension": ".py",
   "mimetype": "text/x-python",
   "name": "python",
   "nbconvert_exporter": "python",
   "pygments_lexer": "ipython3",
   "version": "3.10.5"
  },
  "orig_nbformat": 4,
  "vscode": {
   "interpreter": {
    "hash": "8ae1726e2ffa3abc6d2b9f64f84b0bd32bdbb8a73694fab7e7e91b144843b6af"
   }
  }
 },
 "nbformat": 4,
 "nbformat_minor": 2
}
