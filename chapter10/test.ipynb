{
 "cells": [
  {
   "cell_type": "code",
   "execution_count": null,
   "metadata": {},
   "outputs": [],
   "source": [
    "cheeses = ['Wwe', 8, 15 + 8]\n",
    "print(cheeses)\n",
    "print(type(cheeses))\n",
    "\n",
    "for cheese in cheeses:\n",
    "    print(cheese)"
   ]
  },
  {
   "cell_type": "code",
   "execution_count": 6,
   "metadata": {},
   "outputs": [
    {
     "name": "stdout",
     "output_type": "stream",
     "text": [
      "[1, 2, 3, ['', 4]]\n",
      "[1, 2, 3, ['', 4], '', 4]\n",
      "[1, 2, 3, ['', 4], '', 4, ['', 4]]\n"
     ]
    }
   ],
   "source": [
    "t = [1, 2, 3]\n",
    "x = ['',  4]\n",
    "t.append(x)\n",
    "print(t)\n",
    "t = t + x\n",
    "print(t)\n",
    "t += [x]\n",
    "print(t)"
   ]
  },
  {
   "cell_type": "code",
   "execution_count": 1,
   "metadata": {},
   "outputs": [
    {
     "data": {
      "text/plain": [
       "1"
      ]
     },
     "execution_count": 1,
     "metadata": {},
     "output_type": "execute_result"
    }
   ],
   "source": [
    "t = [1, 2]\n",
    "t.count(1)"
   ]
  },
  {
   "cell_type": "code",
   "execution_count": 2,
   "metadata": {},
   "outputs": [
    {
     "name": "stdout",
     "output_type": "stream",
     "text": [
      "3\n"
     ]
    }
   ],
   "source": [
    "import bisect\n",
    "t = [1, 2, 3, 4, 5]\n",
    "i = bisect.bisect_left(t, 4)\n",
    "print(i)"
   ]
  }
 ],
 "metadata": {
  "kernelspec": {
   "display_name": "Python 3.10.5 64-bit",
   "language": "python",
   "name": "python3"
  },
  "language_info": {
   "codemirror_mode": {
    "name": "ipython",
    "version": 3
   },
   "file_extension": ".py",
   "mimetype": "text/x-python",
   "name": "python",
   "nbconvert_exporter": "python",
   "pygments_lexer": "ipython3",
   "version": "3.10.5"
  },
  "orig_nbformat": 4,
  "vscode": {
   "interpreter": {
    "hash": "8ae1726e2ffa3abc6d2b9f64f84b0bd32bdbb8a73694fab7e7e91b144843b6af"
   }
  }
 },
 "nbformat": 4,
 "nbformat_minor": 2
}
