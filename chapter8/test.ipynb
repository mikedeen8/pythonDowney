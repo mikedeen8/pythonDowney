{
 "cells": [
  {
   "cell_type": "code",
   "execution_count": 8,
   "metadata": {},
   "outputs": [
    {
     "name": "stdout",
     "output_type": "stream",
     "text": [
      "       mrazmisha   \n",
      "3\n"
     ]
    }
   ],
   "source": [
    "s = '       mrazmerzkaya   '\n",
    "print(s.replace('merzkaya', 'misha'))\n",
    "print(s.count('a'))"
   ]
  },
  {
   "cell_type": "code",
   "execution_count": 10,
   "metadata": {},
   "outputs": [],
   "source": [
    "flag = 0\n",
    "if (flag := flag):\n",
    "    print('Ass we can')"
   ]
  }
 ],
 "metadata": {
  "kernelspec": {
   "display_name": "Python 3.10.5 64-bit",
   "language": "python",
   "name": "python3"
  },
  "language_info": {
   "codemirror_mode": {
    "name": "ipython",
    "version": 3
   },
   "file_extension": ".py",
   "mimetype": "text/x-python",
   "name": "python",
   "nbconvert_exporter": "python",
   "pygments_lexer": "ipython3",
   "version": "3.10.5"
  },
  "orig_nbformat": 4,
  "vscode": {
   "interpreter": {
    "hash": "8ae1726e2ffa3abc6d2b9f64f84b0bd32bdbb8a73694fab7e7e91b144843b6af"
   }
  }
 },
 "nbformat": 4,
 "nbformat_minor": 2
}
