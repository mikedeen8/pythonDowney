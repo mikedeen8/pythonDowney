{
 "cells": [
  {
   "cell_type": "markdown",
   "metadata": {},
   "source": []
  },
  {
   "cell_type": "code",
   "execution_count": 21,
   "metadata": {},
   "outputs": [
    {
     "name": "stdout",
     "output_type": "stream",
     "text": [
      "Я по жизни загулял, словно @finger@ в @ass@ попалЯ по жизни загулял, словно @finger@ в @ass@ попал\n"
     ]
    }
   ],
   "source": [
    "print('Я по жизни загулял, словно @finger@ в @ass@ попал')"
   ]
  },
  {
   "cell_type": "code",
   "execution_count": 37,
   "metadata": {},
   "outputs": [
    {
     "data": {
      "text/plain": [
       "False"
      ]
     },
     "execution_count": 37,
     "metadata": {},
     "output_type": "execute_result"
    }
   ],
   "source": [
    "a = 'Is Taiwan a country? True = YES False = NO'\n",
    "'misha - mraz' == a\n",
    "\n"
   ]
  },
  {
   "cell_type": "code",
   "execution_count": 20,
   "metadata": {},
   "outputs": [
    {
     "data": {
      "text/plain": [
       "6"
      ]
     },
     "execution_count": 20,
     "metadata": {},
     "output_type": "execute_result"
    }
   ],
   "source": [
    "\n",
    "5\n",
    "x = 5\n",
    "x + 1"
   ]
  },
  {
   "cell_type": "code",
   "execution_count": 26,
   "metadata": {},
   "outputs": [
    {
     "name": "stdout",
     "output_type": "stream",
     "text": [
      "1e-06\n"
     ]
    }
   ],
   "source": [
    "print(1e-6)"
   ]
  },
  {
   "cell_type": "code",
   "execution_count": 22,
   "metadata": {},
   "outputs": [
    {
     "data": {
      "text/plain": [
       "512"
      ]
     },
     "execution_count": 22,
     "metadata": {},
     "output_type": "execute_result"
    }
   ],
   "source": [
    "2**3**2\n",
    " "
   ]
  },
  {
   "cell_type": "code",
   "execution_count": 62,
   "metadata": {},
   "outputs": [
    {
     "ename": "SyntaxError",
     "evalue": "invalid syntax (1118895481.py, line 1)",
     "output_type": "error",
     "traceback": [
      "\u001b[1;36m  Input \u001b[1;32mIn [62]\u001b[1;36m\u001b[0m\n\u001b[1;33m    3 4\u001b[0m\n\u001b[1;37m      ^\u001b[0m\n\u001b[1;31mSyntaxError\u001b[0m\u001b[1;31m:\u001b[0m invalid syntax\n"
     ]
    }
   ],
   "source": [
    "3 4 "
   ]
  },
  {
   "cell_type": "code",
   "execution_count": 73,
   "metadata": {},
   "outputs": [
    {
     "name": "stdout",
     "output_type": "stream",
     "text": [
      "В 42 минутах и 42 секундах 2562 cекунд\n"
     ]
    }
   ],
   "source": [
    "print('В 42 минутах и 42 секундах', 42 * 60 + 42, 'cекунд')"
   ]
  },
  {
   "cell_type": "code",
   "execution_count": 72,
   "metadata": {},
   "outputs": [
    {
     "name": "stdout",
     "output_type": "stream",
     "text": [
      "В 10 километрах примерно 6 миль.\n"
     ]
    }
   ],
   "source": [
    "print('В 10 километрах примерно', int(10 // 1.61), \"миль.\")"
   ]
  },
  {
   "cell_type": "code",
   "execution_count": 16,
   "metadata": {},
   "outputs": [
    {
     "name": "stdout",
     "output_type": "stream",
     "text": [
      "Ваш средний темп бега 6.874700000000002 минут\n",
      "Ваш средний темп бега 412.4820000000001 секунд\n",
      "Ваша средняя скорость  8.727653570337614 миль в час\n"
     ]
    }
   ],
   "source": [
    "a = 42 * 60 + 42 #секунд\n",
    "b = 10 / 1.61\n",
    "c = 42 + 42 / 60 #минут\n",
    "d = 42 / 60 + 42 / 3600 #часов\n",
    "print('Ваш средний темп бега', 1 / (b / c) , 'минут')\n",
    "print('Ваш средний темп бега', 1 / (b / a) , 'секунд')\n",
    "print('Ваша средняя скорость ' ,b / d , 'миль в час')\n"
   ]
  },
  {
   "cell_type": "code",
   "execution_count": 19,
   "metadata": {},
   "outputs": [],
   "source": [
    "ol4eg = 4"
   ]
  },
  {
   "cell_type": "markdown",
   "metadata": {},
   "source": [
    "a = ''\n",
    "b = ''\n",
    "print(a+b)"
   ]
  },
  {
   "cell_type": "markdown",
   "metadata": {},
   "source": [
    "a = ''\n",
    "b = ''\n",
    "c = a + b\n",
    "print(c)"
   ]
  },
  {
   "cell_type": "markdown",
   "metadata": {},
   "source": []
  },
  {
   "cell_type": "code",
   "execution_count": 24,
   "metadata": {},
   "outputs": [
    {
     "name": "stdout",
     "output_type": "stream",
     "text": [
      "mraz\n"
     ]
    }
   ],
   "source": [
    "a = ''\n",
    "b = ''\n",
    "c = 'mraz'\n",
    "d = a + b + c\n",
    "print(d)"
   ]
  },
  {
   "cell_type": "code",
   "execution_count": 25,
   "metadata": {},
   "outputs": [],
   "source": [
    "'''\n",
    "misha mrazotniy\n",
    "make me come\n",
    "do it again \n",
    "I'll come all over you\n",
    "this is multistring comment\n",
    "that's good\n",
    "and misha - mraz\n",
    "'''\n",
    "a = b\n",
    "#fasksafamamgagmkamgkgkamgkam\n",
    "c = d # afafafdafaagaqhahad misha mraz\n"
   ]
  },
  {
   "cell_type": "code",
   "execution_count": 38,
   "metadata": {},
   "outputs": [
    {
     "name": "stdout",
     "output_type": "stream",
     "text": [
      "523.3333333333334\n"
     ]
    }
   ],
   "source": [
    "V = 4/3 * 3.14 * 5 ** 3\n",
    "print(V)"
   ]
  },
  {
   "cell_type": "code",
   "execution_count": 43,
   "metadata": {},
   "outputs": [
    {
     "name": "stdout",
     "output_type": "stream",
     "text": [
      "12002.5\n",
      "300$\n"
     ]
    }
   ],
   "source": [
    "a = 24950 * 60 * 0.6\n",
    "b = 10000 + 59 * 4950\n",
    "print((a+b)/100)\n",
    "print('300$')"
   ]
  },
  {
   "cell_type": "code",
   "execution_count": 57,
   "metadata": {},
   "outputs": [
    {
     "name": "stdout",
     "output_type": "stream",
     "text": [
      "7 : 30\n",
      "Thaiwan is a country\n"
     ]
    }
   ],
   "source": [
    "a = (8 * 60 + 15) * 2 #Лёгкий темп, сек.(x2).\n",
    "b = (7 * 60 + 12) * 3 #Средний темп, сек.(x3).\n",
    "c = (a+b)/60 #Время мин.\n",
    "d = 6 * 60 + 52 + c #Время суток в минутах.\n",
    "e = d // 60 #Целая часть\n",
    "f = d % 60 #Остасток\n",
    "print(int(e),':',int(f))\n",
    "print('Thaiwan is a country')"
   ]
  },
  {
   "cell_type": "code",
   "execution_count": 71,
   "metadata": {},
   "outputs": [],
   "source": [
    "def is_mraz(name):\n",
    "    a = 5\n",
    "    if name == 'Misha':\n",
    "        return True\n",
    "    else:\n",
    "        return False\n"
   ]
  },
  {
   "cell_type": "code",
   "execution_count": 73,
   "metadata": {},
   "outputs": [
    {
     "name": "stdout",
     "output_type": "stream",
     "text": [
      "False True False\n"
     ]
    }
   ],
   "source": [
    "my_name = 'Oleg'\n",
    "mraz_name = 'Misha'\n",
    "result1 = is_mraz(my_name)\n",
    "result2 = is_mraz(mraz_name)\n",
    "result3 = is_mraz('Zhong Xina')\n",
    "print(result1, result2, result3)"
   ]
  },
  {
   "cell_type": "code",
   "execution_count": 83,
   "metadata": {},
   "outputs": [],
   "source": [
    " import math \n"
   ]
  },
  {
   "cell_type": "code",
   "execution_count": 84,
   "metadata": {},
   "outputs": [
    {
     "name": "stdout",
     "output_type": "stream",
     "text": [
      "1.0\n"
     ]
    },
    {
     "data": {
      "text/plain": [
       "180.0"
      ]
     },
     "execution_count": 84,
     "metadata": {},
     "output_type": "execute_result"
    }
   ],
   "source": [
    "pi = math.pi\n",
    "print(math.sin(pi/2))\n",
    "math.degrees(pi)"
   ]
  },
  {
   "cell_type": "markdown",
   "metadata": {},
   "source": [
    "2 $\\pi$ r -> 360\n",
    "0 1 .... 360\n",
    "0. 1 ... 2 $\\pi$"
   ]
  },
  {
   "cell_type": "code",
   "execution_count": 1,
   "metadata": {},
   "outputs": [],
   "source": [
    "def print_lyrics():\n",
    "    print('Я обычный русскоий парень и мне всё ни почом')"
   ]
  },
  {
   "cell_type": "code",
   "execution_count": 8,
   "metadata": {},
   "outputs": [
    {
     "name": "stdout",
     "output_type": "stream",
     "text": [
      "<function print_lyrics at 0x00000228045CCA60>\n"
     ]
    }
   ],
   "source": [
    "print(print_lyrics)"
   ]
  },
  {
   "cell_type": "code",
   "execution_count": 16,
   "metadata": {},
   "outputs": [
    {
     "name": "stdout",
     "output_type": "stream",
     "text": [
      "Without further interruption \n",
      "\n",
      "Let's celebrate and suck dick \\ \n",
      "\n",
      "Without further interruption \n",
      "\n",
      "Let's celebrate and suck dick \\ \n",
      "\n"
     ]
    }
   ],
   "source": [
    "def repeat_lyrics():\n",
    "    print_lyrics()\n",
    "    print_lyrics()\n",
    " \n",
    "def print_lyrics():\n",
    "\n",
    "    print('Without further interruption \\n')\n",
    "    print('Let\\'s celebrate and suck dick \\\\ \\n')\n",
    "\n",
    "repeat_lyrics()"
   ]
  },
  {
   "cell_type": "code",
   "execution_count": 24,
   "metadata": {},
   "outputs": [
    {
     "name": "stdout",
     "output_type": "stream",
     "text": [
      "Thaiwan is NOT a country Thaiwan is NOT a country Thaiwan is NOT a country Thaiwan is NOT a country Thaiwan is NOT a country \n",
      "Thaiwan is NOT a country Thaiwan is NOT a country Thaiwan is NOT a country Thaiwan is NOT a country Thaiwan is NOT a country \n"
     ]
    }
   ],
   "source": [
    "def print_twice(a):\n",
    "    print(a)\n",
    "    print(a)\n",
    "print_twice('Thaiwan is NOT a country ' * 5)"
   ]
  },
  {
   "cell_type": "code",
   "execution_count": 4,
   "metadata": {},
   "outputs": [
    {
     "ename": "NameError",
     "evalue": "name 'print_twice' is not defined",
     "output_type": "error",
     "traceback": [
      "\u001b[1;31m---------------------------------------------------------------------------\u001b[0m",
      "\u001b[1;31mNameError\u001b[0m                                 Traceback (most recent call last)",
      "\u001b[1;32mc:\\Users\\mike_\\Documents\\python_ws\\mraz.ipynb Ячейка 29\u001b[0m in \u001b[0;36m<cell line: 2>\u001b[1;34m()\u001b[0m\n\u001b[0;32m      <a href='vscode-notebook-cell:/c%3A/Users/mike_/Documents/python_ws/mraz.ipynb#ch0000028?line=0'>1</a>\u001b[0m michael \u001b[39m=\u001b[39m \u001b[39m'\u001b[39m\u001b[39mЖил был на свете Виталий Папизи \u001b[39m\u001b[39m\\n\u001b[39;00m\u001b[39m С детьми он мутил тупа на изи\u001b[39m\u001b[39m'\u001b[39m\n\u001b[1;32m----> <a href='vscode-notebook-cell:/c%3A/Users/mike_/Documents/python_ws/mraz.ipynb#ch0000028?line=1'>2</a>\u001b[0m print_twice(michael)\n",
      "\u001b[1;31mNameError\u001b[0m: name 'print_twice' is not defined"
     ]
    }
   ],
   "source": [
    "michael = 'Жил был на свете Виталий Папизи \\n С детьми он мутил тупа на изи'\n",
    "print_twice(michael)\n"
   ]
  },
  {
   "cell_type": "code",
   "execution_count": 41,
   "metadata": {},
   "outputs": [
    {
     "name": "stdout",
     "output_type": "stream",
     "text": [
      "100500 snaruji 1\n",
      "a: 3\n",
      "b: 4\n",
      "7\n",
      "12\n",
      "0 ya vnutri funksii\n",
      "100500 ya snaruji 2\n"
     ]
    }
   ],
   "source": [
    "e = 100500\n",
    "\n",
    "def plus(a, b):\n",
    "    print('a:', a)\n",
    "    print('b:', b)\n",
    "    print(a + b)\n",
    "    print(a*b)\n",
    "    # g = a**b\n",
    "    # print(g, 'ya vnutri funksii')\n",
    "    e = 0\n",
    "    print(e, 'ya vnutri funksii')\n",
    "    \n",
    "\n",
    "f = 228\n",
    "a = 4\n",
    "b = 3 \n",
    "\n",
    "print(e, 'snaruji 1')\n",
    "\n",
    "plus(b, a) #dызов функции\n",
    "\n",
    "print(e, 'ya snaruji 2')\n"
   ]
  },
  {
   "cell_type": "code",
   "execution_count": 6,
   "metadata": {},
   "outputs": [
    {
     "name": "stdout",
     "output_type": "stream",
     "text": [
      "                                                                 monty\n"
     ]
    }
   ],
   "source": [
    "def right_justify(s):\n",
    "    print(' ' *  (70 - len(s)) + s)\n",
    "right_justify('monty')"
   ]
  },
  {
   "cell_type": "code",
   "execution_count": 1,
   "metadata": {},
   "outputs": [],
   "source": [
    "def Oleg_Tvar(f):\n",
    "    print('+ - - - - ' * f + '+')\n",
    "    print('|         ' * f + '|')\n",
    "    print('|         ' * f + '|')\n",
    "    print('|         ' * f + '|')\n",
    "    print('|         ' * f + '|')\n"
   ]
  },
  {
   "cell_type": "code",
   "execution_count": 2,
   "metadata": {},
   "outputs": [],
   "source": [
    "def Oleg_Mraz(h):\n",
    "    Oleg_Tvar(h)\n",
    "    print('+ - - - - ' * h + '+')\n"
   ]
  },
  {
   "cell_type": "code",
   "execution_count": 3,
   "metadata": {},
   "outputs": [
    {
     "name": "stdout",
     "output_type": "stream",
     "text": [
      "+ - - - - + - - - - +\n",
      "|         |         |\n",
      "|         |         |\n",
      "|         |         |\n",
      "|         |         |\n",
      "+ - - - - + - - - - +\n",
      "|         |         |\n",
      "|         |         |\n",
      "|         |         |\n",
      "|         |         |\n",
      "+ - - - - + - - - - +\n"
     ]
    }
   ],
   "source": [
    "def OLeg_Lox():\n",
    "   Oleg_Tvar(2)\n",
    "   Oleg_Mraz(2)\n",
    "   \n",
    "OLeg_Lox()\n"
   ]
  },
  {
   "cell_type": "code",
   "execution_count": 1,
   "metadata": {},
   "outputs": [
    {
     "name": "stdout",
     "output_type": "stream",
     "text": [
      "+ - - - - + - - - - +\n",
      "|         |         |\n",
      "|         |         |\n",
      "|         |         |\n",
      "|         |         |\n",
      "+ - - - - + - - - - +\n",
      "|         |         |\n",
      "|         |         |\n",
      "|         |         |\n",
      "|         |         |\n",
      "+ - - - - + - - - - +\n",
      "+ - - - - + - - - - + - - - - + - - - - + \n",
      "|         |         |         |         | \n",
      "|         |         |         |         | \n",
      "|         |         |         |         | \n",
      "|         |         |         |         | \n",
      "+ - - - - + - - - - + - - - - + - - - - + \n",
      "|         |         |         |         | \n",
      "|         |         |         |         | \n",
      "|         |         |         |         | \n",
      "|         |         |         |         | \n",
      "+ - - - - + - - - - + - - - - + - - - - + \n",
      "|         |         |         |         | \n",
      "|         |         |         |         | \n",
      "|         |         |         |         | \n",
      "|         |         |         |         | \n",
      "+ - - - - + - - - - + - - - - + - - - - + \n",
      "|         |         |         |         | \n",
      "|         |         |         |         | \n",
      "|         |         |         |         | \n",
      "|         |         |         |         | \n",
      "+ - - - - + - - - - + - - - - + - - - - + \n"
     ]
    }
   ],
   "source": [
    "def do_twice(f):\n",
    "    f()\n",
    "    f()\n",
    "\n",
    "def do_four(f):\n",
    "    do_twice(f)\n",
    "    do_twice(f)\n",
    "\n",
    "def print_beam():\n",
    "    print('+ - - - -', end=' ')\n",
    "\n",
    "def print_post():\n",
    "    print('|        ', end=' ')\n",
    "\n",
    "def print_beams():\n",
    "    do_twice(print_beam)\n",
    "    print('+')\n",
    "\n",
    "def print_posts():\n",
    "    do_twice(print_post)\n",
    "    print('|')\n",
    "\n",
    "def print_row():\n",
    "    print_beams()\n",
    "    do_four(print_posts)\n",
    "\n",
    "def print_grid():\n",
    "    do_twice(print_row)\n",
    "    print_beams()\n",
    "\n",
    "print_grid()\n",
    "    \n",
    "\n",
    "# here is a less-straightforward solution to the\n",
    "# four-by-four grid\n",
    "\n",
    "def one_four_one(f, g, h):\n",
    "    f()\n",
    "    do_four(g)\n",
    "    h()\n",
    "\n",
    "def print_plus():\n",
    "    print('+', end=' ')\n",
    "\n",
    "def print_dash():\n",
    "    print('-', end=' ')\n",
    "\n",
    "def print_bar():\n",
    "    print('|', end=' ')\n",
    "\n",
    "def print_space():\n",
    "    print(' ', end=' ')\n",
    "\n",
    "def print_end():\n",
    "    print()\n",
    "\n",
    "def nothing():\n",
    "    \"do nothing\"\n",
    "\n",
    "def print1beam():\n",
    "    one_four_one(nothing, print_dash, print_plus)\n",
    "\n",
    "def print1post():\n",
    "    one_four_one(nothing, print_space, print_bar)\n",
    "\n",
    "def print4beams():\n",
    "    one_four_one(print_plus, print1beam, print_end)\n",
    "\n",
    "def print4posts():\n",
    "    one_four_one(print_bar, print1post, print_end)\n",
    "\n",
    "def print_row():\n",
    "    one_four_one(nothing, print4posts, print4beams)\n",
    "\n",
    "def print_grid():\n",
    "    one_four_one(print4beams, print_row, nothing)\n",
    "\n",
    "print_grid()"
   ]
  },
  {
   "cell_type": "code",
   "execution_count": 2,
   "metadata": {},
   "outputs": [
    {
     "ename": "",
     "evalue": "",
     "output_type": "error",
     "traceback": [
      "\u001b[1;31mПри выполнении кода в текущей ячейке или предыдущей ячейке ядро аварийно завершило работу. Проверьте код в ячейках, чтобы определить возможную причину сбоя. Щелкните <a href=\"https://aka.ms/vscodeJupyterKernelCrash\">здесь</a> для получения дополнительных сведений. Подробнее см. в <a href='command:jupyter.viewOutput'>журнале Jupyter</a>."
     ]
    }
   ],
   "source": [
    "import turtle\n",
    "bob = turtle.Turtle()"
   ]
  }
 ],
 "metadata": {
  "kernelspec": {
   "display_name": "Python 3.10.5 64-bit",
   "language": "python",
   "name": "python3"
  },
  "language_info": {
   "codemirror_mode": {
    "name": "ipython",
    "version": 3
   },
   "file_extension": ".py",
   "mimetype": "text/x-python",
   "name": "python",
   "nbconvert_exporter": "python",
   "pygments_lexer": "ipython3",
   "version": "3.10.5"
  },
  "orig_nbformat": 4,
  "vscode": {
   "interpreter": {
    "hash": "8ae1726e2ffa3abc6d2b9f64f84b0bd32bdbb8a73694fab7e7e91b144843b6af"
   }
  }
 },
 "nbformat": 4,
 "nbformat_minor": 2
}
